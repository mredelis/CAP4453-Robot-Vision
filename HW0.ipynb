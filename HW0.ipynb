{
  "nbformat": 4,
  "nbformat_minor": 0,
  "metadata": {
    "colab": {
      "provenance": [],
      "authorship_tag": "ABX9TyPK5CvChlN7o00PLe8c36Xh",
      "include_colab_link": true
    },
    "kernelspec": {
      "name": "python3",
      "display_name": "Python 3"
    },
    "language_info": {
      "name": "python"
    }
  },
  "cells": [
    {
      "cell_type": "markdown",
      "metadata": {
        "id": "view-in-github",
        "colab_type": "text"
      },
      "source": [
        "<a href=\"https://colab.research.google.com/github/mredelis/CAP4453-Robot-Vision/blob/main/HW0.ipynb\" target=\"_parent\"><img src=\"https://colab.research.google.com/assets/colab-badge.svg\" alt=\"Open In Colab\"/></a>"
      ]
    },
    {
      "cell_type": "markdown",
      "source": [
        "Edelis Molina Rios\n",
        "\n",
        "Homework Assignment 0\n",
        "\n",
        "CAP4453 Robot Vision"
      ],
      "metadata": {
        "id": "vrLTUIKdwMAn"
      }
    },
    {
      "cell_type": "code",
      "source": [
        "print(\"Hello Robot Vision and Python\")"
      ],
      "metadata": {
        "colab": {
          "base_uri": "https://localhost:8080/"
        },
        "id": "IajUcMJ1wjxV",
        "outputId": "f193881c-f27d-475f-9c38-41d7934e8e60"
      },
      "execution_count": 1,
      "outputs": [
        {
          "output_type": "stream",
          "name": "stdout",
          "text": [
            "Hello Robot Vision and Python\n"
          ]
        }
      ]
    }
  ]
}