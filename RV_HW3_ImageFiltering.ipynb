{
  "nbformat": 4,
  "nbformat_minor": 0,
  "metadata": {
    "colab": {
      "provenance": [],
      "include_colab_link": true
    },
    "kernelspec": {
      "name": "python3",
      "display_name": "Python 3"
    },
    "language_info": {
      "name": "python"
    }
  },
  "cells": [
    {
      "cell_type": "markdown",
      "metadata": {
        "id": "view-in-github",
        "colab_type": "text"
      },
      "source": [
        "<a href=\"https://colab.research.google.com/github/mredelis/CAP4453-Robot-Vision-Spr23/blob/main/RV_HW3_ImageFiltering.ipynb\" target=\"_parent\"><img src=\"https://colab.research.google.com/assets/colab-badge.svg\" alt=\"Open In Colab\"/></a>"
      ]
    },
    {
      "cell_type": "markdown",
      "metadata": {
        "id": "bKN_7d1fuHQq"
      },
      "source": [
        "#Homework 3\n",
        "1. Upload a personal image in hosting place that can be accesed using an URL. \n",
        "2. Perform filtering using a 3x3 and then a 5x5 box filter. Show the resulting images. What is the effect of applying a box filter. Explain the differences between the two resulting images.\n"
      ]
    },
    {
      "cell_type": "code",
      "metadata": {
        "id": "MhiuE4svvKmf"
      },
      "source": [
        "from skimage import io\n",
        "import cv2\n",
        "\n",
        "#yourUrl = 'http://..'\n",
        "image = io.imread(yourUrl)\n",
        "\n",
        "# convert to BGR if you are using openCV\n",
        "image = cv.cvtColor(image, cv.COLOR_BGR2RGB)\n",
        "\n",
        "#prepare the 3x3 shaped filter\n",
        "#k1 = np.array([[],[],[]])\n",
        "\n",
        "#prepare the 5x5 shaped filter\n",
        "#k2 = np.array([[],[],[],[],[]])\n",
        "\n",
        "# Normalize the kernels if needed. 3x3 filter has 1/9 factor, 5x5 has a 1/25 factor\n",
        "\n",
        "\n",
        "# apply filter\n",
        "#final_frame = cv2.filter2D()\n",
        "\n",
        "#make sure you are the right data type and values. You can use histogram to check it\n",
        "# 0-255 if uint8\n",
        "# 0-1 if float\n",
        "\n",
        "# visualize\n",
        "#cv2_imshow(final_frame)\n"
      ],
      "execution_count": null,
      "outputs": []
    },
    {
      "cell_type": "markdown",
      "metadata": {
        "id": "Et0nokFQwfke"
      },
      "source": [
        "3. Obtain and print two-dimensional Gaussian kernels with the following characteristics:<br>\n",
        "a) $\\sigma^2 = 1$, kernel size: 3x3, <br>b) $\\sigma^2 = 1.2$, kernel size: 5x5, <br> c) $\\sigma^2 = 1.6$, kernel size: 9x9. \n",
        "\n",
        "\n",
        "\n"
      ]
    },
    {
      "cell_type": "code",
      "metadata": {
        "id": "JcCEKEm6yKgB"
      },
      "source": [
        "#add your code here\n",
        "\n",
        "# A possible implementation is here. Modify it play with it:\n",
        "#\n",
        "#import numpy as np\n",
        "\n",
        "#def gkern(l=5, sig=1.):\n",
        "#    \"\"\"\\\n",
        "#    creates gaussian kernel with side length l and a sigma of sig\n",
        "#    \"\"\"\n",
        "#    ax = np.linspace(-(l - 1) / 2., (l - 1) / 2., l)\n",
        "#    xx, yy = np.meshgrid(ax, ax)\n",
        "#    kernel = np.exp(-0.5 * (np.square(xx) + np.square(yy)) / np.square(sig))\n",
        "#    return kernel / np.sum(kernel)   #note that this normalize the filter to 1. is it desirable?.\n",
        "\n",
        "\n"
      ],
      "execution_count": null,
      "outputs": []
    },
    {
      "cell_type": "markdown",
      "metadata": {
        "id": "liyCUA83sxDd"
      },
      "source": [
        "4. Apply the three\n",
        "Gaussian kernels obtained previously on your uploaded image. show your filter results. Discuss the differences of\n",
        "Gaussian operations with different sigmas. Also, compare your results with question 2: what are the differences between these ﬁlters, what do you observe ? Which ﬁltering is the most eﬀective in which images ? Why ? "
      ]
    },
    {
      "cell_type": "markdown",
      "metadata": {
        "id": "vQsiu4yu0AfW"
      },
      "source": [
        "Add your comments here"
      ]
    },
    {
      "cell_type": "markdown",
      "metadata": {
        "id": "PJhMl4xDyJIZ"
      },
      "source": [
        "\n",
        "5. Implement the three steps of Sobel filtering. Apply it to the uploaded image for 3 different thresholds. Show the results on\n",
        "the screen, and discuss the resulting images.\n",
        "\n"
      ]
    },
    {
      "cell_type": "code",
      "metadata": {
        "id": "WG8yyZZMx9rs"
      },
      "source": [
        "# step 1. Get x and y gradients . Use the correct kernels \n",
        "#cv2.filter2D()\n",
        "\n",
        "# step 2. Compute the magnitude of the gradient\n",
        "\n",
        "# Step 3. Threshold. Choose 3 different threshold. visualize outputs "
      ],
      "execution_count": null,
      "outputs": []
    },
    {
      "cell_type": "markdown",
      "metadata": {
        "id": "llNQVFNs0QWI"
      },
      "source": [
        "Edit your comments here"
      ]
    },
    {
      "cell_type": "markdown",
      "metadata": {
        "id": "XqKooHcLyRrT"
      },
      "source": [
        "\n",
        "6. Use canny edge detector incorporated in opencv. Pick two diferent sets of hysteresys thresholds. What can you tell about the effect on the obtained edges.  \n"
      ]
    },
    {
      "cell_type": "code",
      "metadata": {
        "id": "ehpOIRaQyZ8c"
      },
      "source": [
        "# use the canny from openCV\n",
        "# cv.Canny(\timage, threshold1, threshold2[, edges[, apertureSize[, L2gradient]]]\t) \n"
      ],
      "execution_count": null,
      "outputs": []
    },
    {
      "cell_type": "markdown",
      "metadata": {
        "id": "Ac8kqi3A0UfR"
      },
      "source": [
        "Edit your comments here"
      ]
    },
    {
      "cell_type": "code",
      "metadata": {
        "id": "VxZ58Un10Dcv"
      },
      "source": [],
      "execution_count": null,
      "outputs": []
    }
  ]
}